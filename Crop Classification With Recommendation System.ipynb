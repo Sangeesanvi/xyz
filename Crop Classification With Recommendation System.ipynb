{
 "cells": [
  {
   "cell_type": "code",
   "execution_count": 4,
   "id": "7bee9b73",
   "metadata": {
    "ExecuteTime": {
     "end_time": "2023-05-13T13:23:25.278910700Z",
     "start_time": "2023-05-13T13:23:25.231548800Z"
    }
   },
   "outputs": [],
   "source": [
    "import pandas as pd\n",
    "import pandas_profiling as pp\n",
    "import numpy as np\n",
    "import seaborn as sns\n",
    "import matplotlib.pyplot as plt"
   ]
  },
  {
   "cell_type": "markdown",
   "id": "2822305c",
   "metadata": {},
   "source": [
    "# Importing Data"
   ]
  },
  {
   "cell_type": "code",
   "execution_count": 5,
   "id": "5b6f8884",
   "metadata": {
    "ExecuteTime": {
     "end_time": "2023-05-13T13:23:45.857789300Z",
     "start_time": "2023-05-13T13:23:45.753321900Z"
    }
   },
   "outputs": [
    {
     "data": {
      "text/plain": "    N   P   K  temperature   humidity        ph    rainfall label\n0  90  42  43    20.879744  82.002744  6.502985  202.935536  rice\n1  85  58  41    21.770462  80.319644  7.038096  226.655537  rice\n2  60  55  44    23.004459  82.320763  7.840207  263.964248  rice\n3  74  35  40    26.491096  80.158363  6.980401  242.864034  rice\n4  78  42  42    20.130175  81.604873  7.628473  262.717340  rice",
      "text/html": "<div>\n<style scoped>\n    .dataframe tbody tr th:only-of-type {\n        vertical-align: middle;\n    }\n\n    .dataframe tbody tr th {\n        vertical-align: top;\n    }\n\n    .dataframe thead th {\n        text-align: right;\n    }\n</style>\n<table border=\"1\" class=\"dataframe\">\n  <thead>\n    <tr style=\"text-align: right;\">\n      <th></th>\n      <th>N</th>\n      <th>P</th>\n      <th>K</th>\n      <th>temperature</th>\n      <th>humidity</th>\n      <th>ph</th>\n      <th>rainfall</th>\n      <th>label</th>\n    </tr>\n  </thead>\n  <tbody>\n    <tr>\n      <th>0</th>\n      <td>90</td>\n      <td>42</td>\n      <td>43</td>\n      <td>20.879744</td>\n      <td>82.002744</td>\n      <td>6.502985</td>\n      <td>202.935536</td>\n      <td>rice</td>\n    </tr>\n    <tr>\n      <th>1</th>\n      <td>85</td>\n      <td>58</td>\n      <td>41</td>\n      <td>21.770462</td>\n      <td>80.319644</td>\n      <td>7.038096</td>\n      <td>226.655537</td>\n      <td>rice</td>\n    </tr>\n    <tr>\n      <th>2</th>\n      <td>60</td>\n      <td>55</td>\n      <td>44</td>\n      <td>23.004459</td>\n      <td>82.320763</td>\n      <td>7.840207</td>\n      <td>263.964248</td>\n      <td>rice</td>\n    </tr>\n    <tr>\n      <th>3</th>\n      <td>74</td>\n      <td>35</td>\n      <td>40</td>\n      <td>26.491096</td>\n      <td>80.158363</td>\n      <td>6.980401</td>\n      <td>242.864034</td>\n      <td>rice</td>\n    </tr>\n    <tr>\n      <th>4</th>\n      <td>78</td>\n      <td>42</td>\n      <td>42</td>\n      <td>20.130175</td>\n      <td>81.604873</td>\n      <td>7.628473</td>\n      <td>262.717340</td>\n      <td>rice</td>\n    </tr>\n  </tbody>\n</table>\n</div>"
     },
     "execution_count": 5,
     "metadata": {},
     "output_type": "execute_result"
    }
   ],
   "source": [
    "crop = pd.read_csv('Crop_recommendation.csv')\n",
    "crop.head()"
   ]
  },
  {
   "cell_type": "markdown",
   "id": "e9ddfb22",
   "metadata": {},
   "source": [
    "# Asq Six Question to yourself"
   ]
  },
  {
   "cell_type": "code",
   "execution_count": 6,
   "id": "ced84d52",
   "metadata": {
    "ExecuteTime": {
     "end_time": "2023-05-13T13:24:15.546905600Z",
     "start_time": "2023-05-13T13:24:15.492918900Z"
    }
   },
   "outputs": [
    {
     "data": {
      "text/plain": "(2200, 8)"
     },
     "execution_count": 6,
     "metadata": {},
     "output_type": "execute_result"
    }
   ],
   "source": [
    "crop.shape"
   ]
  },
  {
   "cell_type": "code",
   "execution_count": 7,
   "id": "9c41c3af",
   "metadata": {
    "ExecuteTime": {
     "end_time": "2023-05-13T13:24:17.435411200Z",
     "start_time": "2023-05-13T13:24:17.389666800Z"
    }
   },
   "outputs": [
    {
     "data": {
      "text/plain": "N              0\nP              0\nK              0\ntemperature    0\nhumidity       0\nph             0\nrainfall       0\nlabel          0\ndtype: int64"
     },
     "execution_count": 7,
     "metadata": {},
     "output_type": "execute_result"
    }
   ],
   "source": [
    "crop.isnull().sum()"
   ]
  },
  {
   "cell_type": "code",
   "execution_count": 8,
   "id": "2f137318",
   "metadata": {
    "ExecuteTime": {
     "end_time": "2023-05-13T13:24:19.156288500Z",
     "start_time": "2023-05-13T13:24:19.040098600Z"
    }
   },
   "outputs": [
    {
     "data": {
      "text/plain": "0"
     },
     "execution_count": 8,
     "metadata": {},
     "output_type": "execute_result"
    }
   ],
   "source": [
    "crop.duplicated().sum()"
   ]
  },
  {
   "cell_type": "code",
   "execution_count": 9,
   "id": "7e4284c1",
   "metadata": {
    "ExecuteTime": {
     "end_time": "2023-05-13T13:24:20.261710500Z",
     "start_time": "2023-05-13T13:24:20.213287200Z"
    }
   },
   "outputs": [
    {
     "name": "stdout",
     "output_type": "stream",
     "text": [
      "<class 'pandas.core.frame.DataFrame'>\n",
      "RangeIndex: 2200 entries, 0 to 2199\n",
      "Data columns (total 8 columns):\n",
      " #   Column       Non-Null Count  Dtype  \n",
      "---  ------       --------------  -----  \n",
      " 0   N            2200 non-null   int64  \n",
      " 1   P            2200 non-null   int64  \n",
      " 2   K            2200 non-null   int64  \n",
      " 3   temperature  2200 non-null   float64\n",
      " 4   humidity     2200 non-null   float64\n",
      " 5   ph           2200 non-null   float64\n",
      " 6   rainfall     2200 non-null   float64\n",
      " 7   label        2200 non-null   object \n",
      "dtypes: float64(4), int64(3), object(1)\n",
      "memory usage: 137.6+ KB\n"
     ]
    }
   ],
   "source": [
    "crop.info()"
   ]
  },
  {
   "cell_type": "code",
   "execution_count": 10,
   "id": "838c7470",
   "metadata": {
    "ExecuteTime": {
     "end_time": "2023-05-13T13:24:21.287088300Z",
     "start_time": "2023-05-13T13:24:21.215942300Z"
    }
   },
   "outputs": [
    {
     "data": {
      "text/plain": "                 N            P            K  temperature     humidity  \\\ncount  2200.000000  2200.000000  2200.000000  2200.000000  2200.000000   \nmean     50.551818    53.362727    48.149091    25.616244    71.481779   \nstd      36.917334    32.985883    50.647931     5.063749    22.263812   \nmin       0.000000     5.000000     5.000000     8.825675    14.258040   \n25%      21.000000    28.000000    20.000000    22.769375    60.261953   \n50%      37.000000    51.000000    32.000000    25.598693    80.473146   \n75%      84.250000    68.000000    49.000000    28.561654    89.948771   \nmax     140.000000   145.000000   205.000000    43.675493    99.981876   \n\n                ph     rainfall  \ncount  2200.000000  2200.000000  \nmean      6.469480   103.463655  \nstd       0.773938    54.958389  \nmin       3.504752    20.211267  \n25%       5.971693    64.551686  \n50%       6.425045    94.867624  \n75%       6.923643   124.267508  \nmax       9.935091   298.560117  ",
      "text/html": "<div>\n<style scoped>\n    .dataframe tbody tr th:only-of-type {\n        vertical-align: middle;\n    }\n\n    .dataframe tbody tr th {\n        vertical-align: top;\n    }\n\n    .dataframe thead th {\n        text-align: right;\n    }\n</style>\n<table border=\"1\" class=\"dataframe\">\n  <thead>\n    <tr style=\"text-align: right;\">\n      <th></th>\n      <th>N</th>\n      <th>P</th>\n      <th>K</th>\n      <th>temperature</th>\n      <th>humidity</th>\n      <th>ph</th>\n      <th>rainfall</th>\n    </tr>\n  </thead>\n  <tbody>\n    <tr>\n      <th>count</th>\n      <td>2200.000000</td>\n      <td>2200.000000</td>\n      <td>2200.000000</td>\n      <td>2200.000000</td>\n      <td>2200.000000</td>\n      <td>2200.000000</td>\n      <td>2200.000000</td>\n    </tr>\n    <tr>\n      <th>mean</th>\n      <td>50.551818</td>\n      <td>53.362727</td>\n      <td>48.149091</td>\n      <td>25.616244</td>\n      <td>71.481779</td>\n      <td>6.469480</td>\n      <td>103.463655</td>\n    </tr>\n    <tr>\n      <th>std</th>\n      <td>36.917334</td>\n      <td>32.985883</td>\n      <td>50.647931</td>\n      <td>5.063749</td>\n      <td>22.263812</td>\n      <td>0.773938</td>\n      <td>54.958389</td>\n    </tr>\n    <tr>\n      <th>min</th>\n      <td>0.000000</td>\n      <td>5.000000</td>\n      <td>5.000000</td>\n      <td>8.825675</td>\n      <td>14.258040</td>\n      <td>3.504752</td>\n      <td>20.211267</td>\n    </tr>\n    <tr>\n      <th>25%</th>\n      <td>21.000000</td>\n      <td>28.000000</td>\n      <td>20.000000</td>\n      <td>22.769375</td>\n      <td>60.261953</td>\n      <td>5.971693</td>\n      <td>64.551686</td>\n    </tr>\n    <tr>\n      <th>50%</th>\n      <td>37.000000</td>\n      <td>51.000000</td>\n      <td>32.000000</td>\n      <td>25.598693</td>\n      <td>80.473146</td>\n      <td>6.425045</td>\n      <td>94.867624</td>\n    </tr>\n    <tr>\n      <th>75%</th>\n      <td>84.250000</td>\n      <td>68.000000</td>\n      <td>49.000000</td>\n      <td>28.561654</td>\n      <td>89.948771</td>\n      <td>6.923643</td>\n      <td>124.267508</td>\n    </tr>\n    <tr>\n      <th>max</th>\n      <td>140.000000</td>\n      <td>145.000000</td>\n      <td>205.000000</td>\n      <td>43.675493</td>\n      <td>99.981876</td>\n      <td>9.935091</td>\n      <td>298.560117</td>\n    </tr>\n  </tbody>\n</table>\n</div>"
     },
     "execution_count": 10,
     "metadata": {},
     "output_type": "execute_result"
    }
   ],
   "source": [
    "crop.describe()"
   ]
  },
  {
   "cell_type": "markdown",
   "id": "b10cce9f",
   "metadata": {},
   "source": [
    "# Exploring Data"
   ]
  },
  {
   "cell_type": "code",
   "execution_count": 11,
   "id": "709d06f9",
   "metadata": {
    "ExecuteTime": {
     "end_time": "2023-05-13T13:24:23.591464400Z",
     "start_time": "2023-05-13T13:24:23.532903100Z"
    }
   },
   "outputs": [],
   "source": [
    "corr = crop.corr()"
   ]
  },
  {
   "cell_type": "code",
   "execution_count": 12,
   "id": "95040822",
   "metadata": {
    "ExecuteTime": {
     "end_time": "2023-05-13T13:24:24.977845300Z",
     "start_time": "2023-05-13T13:24:24.938951300Z"
    }
   },
   "outputs": [
    {
     "data": {
      "text/plain": "                    N         P         K  temperature  humidity        ph  \\\nN            1.000000 -0.231460 -0.140512     0.026504  0.190688  0.096683   \nP           -0.231460  1.000000  0.736232    -0.127541 -0.118734 -0.138019   \nK           -0.140512  0.736232  1.000000    -0.160387  0.190859 -0.169503   \ntemperature  0.026504 -0.127541 -0.160387     1.000000  0.205320 -0.017795   \nhumidity     0.190688 -0.118734  0.190859     0.205320  1.000000 -0.008483   \nph           0.096683 -0.138019 -0.169503    -0.017795 -0.008483  1.000000   \nrainfall     0.059020 -0.063839 -0.053461    -0.030084  0.094423 -0.109069   \n\n             rainfall  \nN            0.059020  \nP           -0.063839  \nK           -0.053461  \ntemperature -0.030084  \nhumidity     0.094423  \nph          -0.109069  \nrainfall     1.000000  ",
      "text/html": "<div>\n<style scoped>\n    .dataframe tbody tr th:only-of-type {\n        vertical-align: middle;\n    }\n\n    .dataframe tbody tr th {\n        vertical-align: top;\n    }\n\n    .dataframe thead th {\n        text-align: right;\n    }\n</style>\n<table border=\"1\" class=\"dataframe\">\n  <thead>\n    <tr style=\"text-align: right;\">\n      <th></th>\n      <th>N</th>\n      <th>P</th>\n      <th>K</th>\n      <th>temperature</th>\n      <th>humidity</th>\n      <th>ph</th>\n      <th>rainfall</th>\n    </tr>\n  </thead>\n  <tbody>\n    <tr>\n      <th>N</th>\n      <td>1.000000</td>\n      <td>-0.231460</td>\n      <td>-0.140512</td>\n      <td>0.026504</td>\n      <td>0.190688</td>\n      <td>0.096683</td>\n      <td>0.059020</td>\n    </tr>\n    <tr>\n      <th>P</th>\n      <td>-0.231460</td>\n      <td>1.000000</td>\n      <td>0.736232</td>\n      <td>-0.127541</td>\n      <td>-0.118734</td>\n      <td>-0.138019</td>\n      <td>-0.063839</td>\n    </tr>\n    <tr>\n      <th>K</th>\n      <td>-0.140512</td>\n      <td>0.736232</td>\n      <td>1.000000</td>\n      <td>-0.160387</td>\n      <td>0.190859</td>\n      <td>-0.169503</td>\n      <td>-0.053461</td>\n    </tr>\n    <tr>\n      <th>temperature</th>\n      <td>0.026504</td>\n      <td>-0.127541</td>\n      <td>-0.160387</td>\n      <td>1.000000</td>\n      <td>0.205320</td>\n      <td>-0.017795</td>\n      <td>-0.030084</td>\n    </tr>\n    <tr>\n      <th>humidity</th>\n      <td>0.190688</td>\n      <td>-0.118734</td>\n      <td>0.190859</td>\n      <td>0.205320</td>\n      <td>1.000000</td>\n      <td>-0.008483</td>\n      <td>0.094423</td>\n    </tr>\n    <tr>\n      <th>ph</th>\n      <td>0.096683</td>\n      <td>-0.138019</td>\n      <td>-0.169503</td>\n      <td>-0.017795</td>\n      <td>-0.008483</td>\n      <td>1.000000</td>\n      <td>-0.109069</td>\n    </tr>\n    <tr>\n      <th>rainfall</th>\n      <td>0.059020</td>\n      <td>-0.063839</td>\n      <td>-0.053461</td>\n      <td>-0.030084</td>\n      <td>0.094423</td>\n      <td>-0.109069</td>\n      <td>1.000000</td>\n    </tr>\n  </tbody>\n</table>\n</div>"
     },
     "execution_count": 12,
     "metadata": {},
     "output_type": "execute_result"
    }
   ],
   "source": [
    "corr"
   ]
  },
  {
   "cell_type": "code",
   "execution_count": 13,
   "id": "6ab56f7f",
   "metadata": {
    "ExecuteTime": {
     "end_time": "2023-05-13T13:24:27.502244200Z",
     "start_time": "2023-05-13T13:24:26.755566100Z"
    }
   },
   "outputs": [
    {
     "data": {
      "text/plain": "<AxesSubplot: >"
     },
     "execution_count": 13,
     "metadata": {},
     "output_type": "execute_result"
    },
    {
     "data": {
      "text/plain": "<Figure size 640x480 with 2 Axes>",
      "image/png": "[encoded data removed]"
     },
     "metadata": {},
     "output_type": "display_data"
    }
   ],
   "source": [
    "sns.heatmap(corr,annot=True,cbar=True, cmap='coolwarm', fmt='.2g')"
   ]
  },
  {
   "cell_type": "markdown",
   "id": "3e3af150",
   "metadata": {},
   "source": [
    "# Encoding"
   ]
  },
  {
   "cell_type": "code",
   "execution_count": 14,
   "id": "8c35d395",
   "metadata": {
    "ExecuteTime": {
     "end_time": "2023-05-13T13:24:30.470349500Z",
     "start_time": "2023-05-13T13:24:30.431864100Z"
    }
   },
   "outputs": [
    {
     "data": {
      "text/plain": "rice           100\nmaize          100\njute           100\ncotton         100\ncoconut        100\npapaya         100\norange         100\napple          100\nmuskmelon      100\nwatermelon     100\ngrapes         100\nmango          100\nbanana         100\npomegranate    100\nlentil         100\nblackgram      100\nmungbean       100\nmothbeans      100\npigeonpeas     100\nkidneybeans    100\nchickpea       100\ncoffee         100\nName: label, dtype: int64"
     },
     "execution_count": 14,
     "metadata": {},
     "output_type": "execute_result"
    }
   ],
   "source": [
    "crop['label'].value_counts()"
   ]
  },
  {
   "cell_type": "code",
   "execution_count": 15,
   "id": "b1a53f7f",
   "metadata": {
    "ExecuteTime": {
     "end_time": "2023-05-13T13:24:31.638595700Z",
     "start_time": "2023-05-13T13:24:31.602492900Z"
    }
   },
   "outputs": [],
   "source": [
    "crop_dict = {\n",
    "    'rice': 1,\n",
    "    'maize': 2,\n",
    "    'jute': 3,\n",
    "    'cotton': 4,\n",
    "    'coconut': 5,\n",
    "    'papaya': 6,\n",
    "    'orange': 7,\n",
    "    'apple': 8,\n",
    "    'muskmelon': 9,\n",
    "    'watermelon': 10,\n",
    "    'grapes': 11,\n",
    "    'mango': 12,\n",
    "    'banana': 13,\n",
    "    'pomegranate': 14,\n",
    "    'lentil': 15,\n",
    "    'blackgram': 16,\n",
    "    'mungbean': 17,\n",
    "    'mothbeans': 18,\n",
    "    'pigeonpeas': 19,\n",
    "    'kidneybeans': 20,\n",
    "    'chickpea': 21,\n",
    "    'coffee': 22\n",
    "}\n",
    "crop['label_num'] = crop['label'].map(crop_dict)"
   ]
  },
  {
   "cell_type": "code",
   "execution_count": 16,
   "id": "c93ff888",
   "metadata": {
    "ExecuteTime": {
     "end_time": "2023-05-13T13:24:32.655900800Z",
     "start_time": "2023-05-13T13:24:32.596664300Z"
    }
   },
   "outputs": [],
   "source": [
    "crop.drop('label',axis=1,inplace=True)"
   ]
  },
  {
   "cell_type": "code",
   "execution_count": 17,
   "id": "8eb25ccd",
   "metadata": {
    "ExecuteTime": {
     "end_time": "2023-05-13T13:24:33.779025800Z",
     "start_time": "2023-05-13T13:24:33.700892Z"
    }
   },
   "outputs": [
    {
     "data": {
      "text/plain": "    N   P   K  temperature   humidity        ph    rainfall  label_num\n0  90  42  43    20.879744  82.002744  6.502985  202.935536          1\n1  85  58  41    21.770462  80.319644  7.038096  226.655537          1\n2  60  55  44    23.004459  82.320763  7.840207  263.964248          1\n3  74  35  40    26.491096  80.158363  6.980401  242.864034          1\n4  78  42  42    20.130175  81.604873  7.628473  262.717340          1",
      "text/html": "<div>\n<style scoped>\n    .dataframe tbody tr th:only-of-type {\n        vertical-align: middle;\n    }\n\n    .dataframe tbody tr th {\n        vertical-align: top;\n    }\n\n    .dataframe thead th {\n        text-align: right;\n    }\n</style>\n<table border=\"1\" class=\"dataframe\">\n  <thead>\n    <tr style=\"text-align: right;\">\n      <th></th>\n      <th>N</th>\n      <th>P</th>\n      <th>K</th>\n      <th>temperature</th>\n      <th>humidity</th>\n      <th>ph</th>\n      <th>rainfall</th>\n      <th>label_num</th>\n    </tr>\n  </thead>\n  <tbody>\n    <tr>\n      <th>0</th>\n      <td>90</td>\n      <td>42</td>\n      <td>43</td>\n      <td>20.879744</td>\n      <td>82.002744</td>\n      <td>6.502985</td>\n      <td>202.935536</td>\n      <td>1</td>\n    </tr>\n    <tr>\n      <th>1</th>\n      <td>85</td>\n      <td>58</td>\n      <td>41</td>\n      <td>21.770462</td>\n      <td>80.319644</td>\n      <td>7.038096</td>\n      <td>226.655537</td>\n      <td>1</td>\n    </tr>\n    <tr>\n      <th>2</th>\n      <td>60</td>\n      <td>55</td>\n      <td>44</td>\n      <td>23.004459</td>\n      <td>82.320763</td>\n      <td>7.840207</td>\n      <td>263.964248</td>\n      <td>1</td>\n    </tr>\n    <tr>\n      <th>3</th>\n      <td>74</td>\n      <td>35</td>\n      <td>40</td>\n      <td>26.491096</td>\n      <td>80.158363</td>\n      <td>6.980401</td>\n      <td>242.864034</td>\n      <td>1</td>\n    </tr>\n    <tr>\n      <th>4</th>\n      <td>78</td>\n      <td>42</td>\n      <td>42</td>\n      <td>20.130175</td>\n      <td>81.604873</td>\n      <td>7.628473</td>\n      <td>262.717340</td>\n      <td>1</td>\n    </tr>\n  </tbody>\n</table>\n</div>"
     },
     "execution_count": 17,
     "metadata": {},
     "output_type": "execute_result"
    }
   ],
   "source": [
    "crop.head()"
   ]
  },
  {
   "cell_type": "markdown",
   "id": "a5494675",
   "metadata": {},
   "source": [
    "# Train Test Split"
   ]
  },
  {
   "cell_type": "code",
   "execution_count": 18,
   "id": "5a049f55",
   "metadata": {
    "ExecuteTime": {
     "end_time": "2023-05-13T13:24:37.849283700Z",
     "start_time": "2023-05-13T13:24:37.840164400Z"
    }
   },
   "outputs": [],
   "source": [
    "# Split the dataset into features and labels\n",
    "X = crop.iloc[:, :-1]\n",
    "y = crop.iloc[:, -1]"
   ]
  },
  {
   "cell_type": "code",
   "execution_count": 18,
   "id": "d2601fcf",
   "metadata": {
    "ExecuteTime": {
     "end_time": "2023-05-13T13:24:45.916460Z",
     "start_time": "2023-05-13T13:24:45.891802200Z"
    }
   },
   "outputs": [],
   "source": []
  },
  {
   "cell_type": "code",
   "execution_count": 19,
   "id": "c561ea31",
   "metadata": {
    "ExecuteTime": {
     "end_time": "2023-05-13T13:24:51.122601600Z",
     "start_time": "2023-05-13T13:24:50.451696Z"
    }
   },
   "outputs": [],
   "source": [
    "from sklearn.model_selection import train_test_split\n",
    "# Split the data into training and testing sets\n",
    "X_train, X_test, y_train, y_test = train_test_split(X, y, test_size=0.3, random_state=42)\n"
   ]
  },
  {
   "cell_type": "markdown",
   "id": "ab13cdf8",
   "metadata": {},
   "source": [
    "\n",
    "# Scale the features using MinMaxScaler"
   ]
  },
  {
   "cell_type": "code",
   "execution_count": 20,
   "id": "f19981a7",
   "metadata": {
    "ExecuteTime": {
     "end_time": "2023-05-13T13:24:55.421237600Z",
     "start_time": "2023-05-13T13:24:55.362968400Z"
    }
   },
   "outputs": [],
   "source": [
    "from sklearn.preprocessing import MinMaxScaler\n",
    "scaler = MinMaxScaler()\n",
    "X_train_scaled = scaler.fit_transform(X_train)\n",
    "X_test_scaled = scaler.transform(X_test)"
   ]
  },
  {
   "cell_type": "markdown",
   "id": "f773f2ff",
   "metadata": {},
   "source": [
    "# Standarization"
   ]
  },
  {
   "cell_type": "code",
   "execution_count": 21,
   "id": "9099b5ac",
   "metadata": {
    "ExecuteTime": {
     "end_time": "2023-05-13T13:24:58.066685600Z",
     "start_time": "2023-05-13T13:24:58.017628600Z"
    }
   },
   "outputs": [],
   "source": [
    "from sklearn.preprocessing import StandardScaler\n",
    "scaler = StandardScaler()\n",
    "X_train_scaled = scaler.fit_transform(X_train)\n",
    "X_test_scaled = scaler.transform(X_test)"
   ]
  },
  {
   "cell_type": "markdown",
   "id": "752a08ae",
   "metadata": {},
   "source": [
    "# Training Models"
   ]
  },
  {
   "cell_type": "code",
   "execution_count": 22,
   "id": "ac6ef55e",
   "metadata": {
    "ExecuteTime": {
     "end_time": "2023-05-13T13:25:14.935175100Z",
     "start_time": "2023-05-13T13:25:01.870470600Z"
    }
   },
   "outputs": [
    {
     "name": "stdout",
     "output_type": "stream",
     "text": [
      "Linear Discriminant Analysis:\n",
      "Accuracy: 0.9515\n"
     ]
    },
    {
     "name": "stderr",
     "output_type": "stream",
     "text": [
      "C:\\Users\\Shravan Kumar\\anaconda3\\lib\\site-packages\\sklearn\\linear_model\\_logistic.py:814: ConvergenceWarning: lbfgs failed to converge (status=1):\n",
      "STOP: TOTAL NO. of ITERATIONS REACHED LIMIT.\n",
      "\n",
      "Increase the number of iterations (max_iter) or scale the data as shown in:\n",
      "    https://scikit-learn.org/stable/modules/preprocessing.html\n",
      "Please also refer to the documentation for alternative solver options:\n",
      "    https://scikit-learn.org/stable/modules/linear_model.html#logistic-regression\n",
      "  n_iter_i = _check_optimize_result(\n"
     ]
    },
    {
     "name": "stdout",
     "output_type": "stream",
     "text": [
      "Logistic Regression:\n",
      "Accuracy: 0.9470\n",
      "Naive Bayes:\n",
      "Accuracy: 0.9939\n",
      "Support Vector Machine:\n",
      "Accuracy: 0.9636\n",
      "K-Nearest Neighbors:\n",
      "Accuracy: 0.9773\n",
      "Decision Tree:\n",
      "Accuracy: 0.9833\n"
     ]
    },
    {
     "name": "stderr",
     "output_type": "stream",
     "text": [
      "C:\\Users\\Shravan Kumar\\anaconda3\\lib\\site-packages\\sklearn\\neighbors\\_classification.py:228: FutureWarning: Unlike other reduction functions (e.g. `skew`, `kurtosis`), the default behavior of `mode` typically preserves the axis it acts along. In SciPy 1.11.0, this behavior will change: the default value of `keepdims` will become False, the `axis` over which the statistic is taken will be eliminated, and the value None will no longer be accepted. Set `keepdims` to True or False to avoid this warning.\n",
      "  mode, _ = stats.mode(_y[neigh_ind, k], axis=1)\n"
     ]
    },
    {
     "name": "stdout",
     "output_type": "stream",
     "text": [
      "Random Forest:\n",
      "Accuracy: 0.9924\n",
      "Bagging:\n",
      "Accuracy: 0.9864\n",
      "AdaBoost:\n",
      "Accuracy: 0.2106\n",
      "Gradient Boosting:\n",
      "Accuracy: 0.9833\n",
      "Extra Trees:\n",
      "Accuracy: 0.9197\n",
      "0.9924242424242424\n"
     ]
    }
   ],
   "source": [
    "from sklearn.discriminant_analysis import LinearDiscriminantAnalysis\n",
    "from sklearn.linear_model import LogisticRegression\n",
    "from sklearn.naive_bayes import GaussianNB\n",
    "from sklearn.svm import SVC\n",
    "from sklearn.neighbors import KNeighborsClassifier\n",
    "from sklearn.tree import DecisionTreeClassifier\n",
    "from sklearn.tree import ExtraTreeClassifier\n",
    "from sklearn.ensemble import RandomForestClassifier\n",
    "from sklearn.ensemble import BaggingClassifier\n",
    "from sklearn.ensemble import GradientBoostingClassifier\n",
    "from sklearn.ensemble import AdaBoostClassifier\n",
    "\n",
    "# create instances of all models\n",
    "models = {\n",
    "    'Linear Discriminant Analysis': LinearDiscriminantAnalysis(),\n",
    "    'Logistic Regression': LogisticRegression(),\n",
    "    'Naive Bayes': GaussianNB(),\n",
    "    'Support Vector Machine': SVC(),\n",
    "    'K-Nearest Neighbors': KNeighborsClassifier(),\n",
    "    'Decision Tree': DecisionTreeClassifier(),\n",
    "    'Random Forest': RandomForestClassifier(),\n",
    "    'Bagging': BaggingClassifier(),\n",
    "    'AdaBoost': AdaBoostClassifier(),\n",
    "    'Gradient Boosting': GradientBoostingClassifier(),\n",
    "    'Extra Trees': ExtraTreeClassifier(),\n",
    "}\n",
    "\n",
    "from sklearn.metrics import accuracy_score\n",
    "for name, model in models.items():\n",
    "    model.fit(X_train, y_train)\n",
    "    y_pred = model.predict(X_test)\n",
    "    acc = accuracy_score(y_test, y_pred)\n",
    "    print(f'{name}:\\nAccuracy: {acc:.4f}')\n",
    "    \n",
    "# Selecting decistion tree model:\n",
    "rdf = RandomForestClassifier()\n",
    "rdf.fit(X_train,y_train)\n",
    "y_pred = rdf.predict(X_test)\n",
    "print(accuracy_score(y_test,y_pred))"
   ]
  },
  {
   "cell_type": "markdown",
   "id": "859d9922",
   "metadata": {},
   "source": [
    "# Predictive System"
   ]
  },
  {
   "cell_type": "code",
   "execution_count": 23,
   "id": "17f3a3fe",
   "metadata": {
    "ExecuteTime": {
     "end_time": "2023-05-13T13:25:14.968290500Z",
     "start_time": "2023-05-13T13:25:14.937177600Z"
    }
   },
   "outputs": [],
   "source": [
    "# Define function to make predictions\n",
    "def predict_crop(N, P, K, temperature, humidity, pH, rainfall):\n",
    "    # Create a numpy array with the input values\n",
    "    input_values = np.array([[N, P, K, temperature, humidity, pH, rainfall]])\n",
    "    \n",
    "    # Use the model to make a prediction\n",
    "    prediction = rdf.predict(input_values)\n",
    "    \n",
    "    # Return the predicted crop label\n",
    "    return prediction[0]\n"
   ]
  },
  {
   "cell_type": "code",
   "execution_count": 24,
   "id": "64ffd9d3",
   "metadata": {
    "ExecuteTime": {
     "end_time": "2023-05-13T13:25:15.085606200Z",
     "start_time": "2023-05-13T13:25:14.961906400Z"
    }
   },
   "outputs": [
    {
     "name": "stdout",
     "output_type": "stream",
     "text": [
      "Mango is the best crop to be cultivated right there\n"
     ]
    },
    {
     "name": "stderr",
     "output_type": "stream",
     "text": [
      "C:\\Users\\Shravan Kumar\\anaconda3\\lib\\site-packages\\sklearn\\base.py:450: UserWarning: X does not have valid feature names, but RandomForestClassifier was fitted with feature names\n",
      "  warnings.warn(\n"
     ]
    }
   ],
   "source": [
    "N = 21\n",
    "P = 26\n",
    "K = 27\n",
    "tem = 27.003155\n",
    "humidity = 47.675254\n",
    "ph = 5.699587\n",
    "rainfall = 95.851183\n",
    "\n",
    "pred = predict_crop(N, P, K, tem, humidity, ph, rainfall)\n",
    "\n",
    "if pred == 1:\n",
    "    print(\"Rice is the best crop to be cultivated right there\")\n",
    "elif pred == 2:\n",
    "    print(\"Maize is the best crop to be cultivated right there\")\n",
    "elif pred == 3:\n",
    "    print(\"Jute is the best crop to be cultivated right there\")\n",
    "elif pred == 4:\n",
    "    print(\"Cotton is the best crop to be cultivated right there\")\n",
    "elif pred == 5:\n",
    "    print(\"Coconut is the best crop to be cultivated right there\")\n",
    "elif pred == 6:\n",
    "    print(\"Papaya is the best crop to be cultivated right there\")\n",
    "elif pred == 7:\n",
    "    print(\"Orange is the best crop to be cultivated right there\")\n",
    "elif pred == 8:\n",
    "    print(\"Apple is the best crop to be cultivated right there\")\n",
    "elif pred == 9:\n",
    "    print(\"Muskmelon is the best crop to be cultivated right there\")\n",
    "elif pred == 10:\n",
    "    print(\"Watermelon is the best crop to be cultivated right there\")\n",
    "elif pred == 11:\n",
    "    print(\"Grapes is the best crop to be cultivated right there\")\n",
    "elif pred == 12:\n",
    "    print(\"Mango is the best crop to be cultivated right there\")\n",
    "elif pred == 13:\n",
    "    print(\"Banana is the best crop to be cultivated right there\")\n",
    "elif pred == 14:\n",
    "    print(\"Pomegranate is the best crop to be cultivated right there\")\n",
    "elif pred == 15:\n",
    "    print(\"Lentil is the best crop to be cultivated right there\")\n",
    "elif pred == 16:\n",
    "    print(\"Blackgram is the best crop to be cultivated right there\")\n",
    "elif pred == 17:\n",
    "    print(\"Mungbean is the best crop to be cultivated right there\")\n",
    "elif pred == 18:\n",
    "    print(\"Mothbeans is the best crop to be cultivated right there\")\n",
    "elif pred == 19:\n",
    "    print(\"Pigeonpeas is the best crop to be cultivated right there\")\n",
    "elif pred == 20:\n",
    "    print(\"Kidneybeans is the best crop to be cultivated right there\")\n",
    "elif pred == 21:\n",
    "    print(\"Chickpea is the best crop to be cultivated right there\")\n",
    "elif pred == 22:\n",
    "    print(\"Coffee is the best crop to be cultivated right there\")\n",
    "else:\n",
    "    print(\"Sorry, we could not determine the best crop to be cultivated with the provided data.\")\n"
   ]
  },
  {
   "cell_type": "code",
   "execution_count": 25,
   "id": "fa3d3b8c",
   "metadata": {
    "ExecuteTime": {
     "end_time": "2023-05-13T13:25:15.088636900Z",
     "start_time": "2023-05-13T13:25:15.015328500Z"
    }
   },
   "outputs": [
    {
     "data": {
      "text/plain": "        N    P    K  temperature   humidity        ph    rainfall\n1102   21   26   27    27.003155  47.675254  5.699587   95.851183\n1159   29   35   28    28.347161  53.539031  6.967418   90.402604\n141    60   44   23    24.794708  70.045567  5.722580   76.728601\n1004   80   77   49    26.054330  79.396545  5.519088  113.229737\n2      60   55   44    23.004459  82.320763  7.840207  263.964248\n...   ...  ...  ...          ...        ...       ...         ...\n1638   10    5    5    21.213070  91.353492  7.817846  112.983436\n1095  108   94   47    27.359116  84.546250  6.387431   90.812505\n1130   11   36   31    27.920633  51.779659  6.475449  100.258567\n1294   11  124  204    13.429886  80.066340  6.361141   71.400430\n860    32   78   22    23.970814  62.355576  7.007038   53.409060\n\n[1540 rows x 7 columns]",
      "text/html": "<div>\n<style scoped>\n    .dataframe tbody tr th:only-of-type {\n        vertical-align: middle;\n    }\n\n    .dataframe tbody tr th {\n        vertical-align: top;\n    }\n\n    .dataframe thead th {\n        text-align: right;\n    }\n</style>\n<table border=\"1\" class=\"dataframe\">\n  <thead>\n    <tr style=\"text-align: right;\">\n      <th></th>\n      <th>N</th>\n      <th>P</th>\n      <th>K</th>\n      <th>temperature</th>\n      <th>humidity</th>\n      <th>ph</th>\n      <th>rainfall</th>\n    </tr>\n  </thead>\n  <tbody>\n    <tr>\n      <th>1102</th>\n      <td>21</td>\n      <td>26</td>\n      <td>27</td>\n      <td>27.003155</td>\n      <td>47.675254</td>\n      <td>5.699587</td>\n      <td>95.851183</td>\n    </tr>\n    <tr>\n      <th>1159</th>\n      <td>29</td>\n      <td>35</td>\n      <td>28</td>\n      <td>28.347161</td>\n      <td>53.539031</td>\n      <td>6.967418</td>\n      <td>90.402604</td>\n    </tr>\n    <tr>\n      <th>141</th>\n      <td>60</td>\n      <td>44</td>\n      <td>23</td>\n      <td>24.794708</td>\n      <td>70.045567</td>\n      <td>5.722580</td>\n      <td>76.728601</td>\n    </tr>\n    <tr>\n      <th>1004</th>\n      <td>80</td>\n      <td>77</td>\n      <td>49</td>\n      <td>26.054330</td>\n      <td>79.396545</td>\n      <td>5.519088</td>\n      <td>113.229737</td>\n    </tr>\n    <tr>\n      <th>2</th>\n      <td>60</td>\n      <td>55</td>\n      <td>44</td>\n      <td>23.004459</td>\n      <td>82.320763</td>\n      <td>7.840207</td>\n      <td>263.964248</td>\n    </tr>\n    <tr>\n      <th>...</th>\n      <td>...</td>\n      <td>...</td>\n      <td>...</td>\n      <td>...</td>\n      <td>...</td>\n      <td>...</td>\n      <td>...</td>\n    </tr>\n    <tr>\n      <th>1638</th>\n      <td>10</td>\n      <td>5</td>\n      <td>5</td>\n      <td>21.213070</td>\n      <td>91.353492</td>\n      <td>7.817846</td>\n      <td>112.983436</td>\n    </tr>\n    <tr>\n      <th>1095</th>\n      <td>108</td>\n      <td>94</td>\n      <td>47</td>\n      <td>27.359116</td>\n      <td>84.546250</td>\n      <td>6.387431</td>\n      <td>90.812505</td>\n    </tr>\n    <tr>\n      <th>1130</th>\n      <td>11</td>\n      <td>36</td>\n      <td>31</td>\n      <td>27.920633</td>\n      <td>51.779659</td>\n      <td>6.475449</td>\n      <td>100.258567</td>\n    </tr>\n    <tr>\n      <th>1294</th>\n      <td>11</td>\n      <td>124</td>\n      <td>204</td>\n      <td>13.429886</td>\n      <td>80.066340</td>\n      <td>6.361141</td>\n      <td>71.400430</td>\n    </tr>\n    <tr>\n      <th>860</th>\n      <td>32</td>\n      <td>78</td>\n      <td>22</td>\n      <td>23.970814</td>\n      <td>62.355576</td>\n      <td>7.007038</td>\n      <td>53.409060</td>\n    </tr>\n  </tbody>\n</table>\n<p>1540 rows × 7 columns</p>\n</div>"
     },
     "execution_count": 25,
     "metadata": {},
     "output_type": "execute_result"
    }
   ],
   "source": [
    "X_train"
   ]
  },
  {
   "cell_type": "code",
   "execution_count": null,
   "id": "2b4a7aa4",
   "metadata": {},
   "outputs": [],
   "source": []
  },
  {
   "cell_type": "code",
   "execution_count": null,
   "id": "2571a050",
   "metadata": {},
   "outputs": [],
   "source": []
  },
  {
   "cell_type": "code",
   "execution_count": null,
   "id": "5c7574ae",
   "metadata": {},
   "outputs": [],
   "source": []
  },
  {
   "cell_type": "code",
   "execution_count": null,
   "id": "bc2640b2",
   "metadata": {},
   "outputs": [],
   "source": []
  },
  {
   "cell_type": "code",
   "execution_count": null,
   "id": "5210cc80",
   "metadata": {},
   "outputs": [],
   "source": []
  },
  {
   "cell_type": "code",
   "execution_count": null,
   "id": "101a023a",
   "metadata": {},
   "outputs": [],
   "source": []
  },
  {
   "cell_type": "code",
   "execution_count": null,
   "id": "14a21818",
   "metadata": {},
   "outputs": [],
   "source": []
  },
  {
   "cell_type": "code",
   "execution_count": null,
   "id": "39a7d4b9",
   "metadata": {},
   "outputs": [],
   "source": []
  },
  {
   "cell_type": "code",
   "execution_count": null,
   "id": "47bd1e82",
   "metadata": {},
   "outputs": [],
   "source": []
  },
  {
   "cell_type": "code",
   "execution_count": null,
   "id": "a55a48a3",
   "metadata": {},
   "outputs": [],
   "source": []
  },
  {
   "cell_type": "code",
   "execution_count": null,
   "id": "c97733fc",
   "metadata": {},
   "outputs": [],
   "source": []
  }
 ],
 "metadata": {
  "kernelspec": {
   "display_name": "Python 3 (ipykernel)",
   "language": "python",
   "name": "python3"
  },
  "language_info": {
   "codemirror_mode": {
    "name": "ipython",
    "version": 3
   },
   "file_extension": ".py",
   "mimetype": "text/x-python",
   "name": "python",
   "nbconvert_exporter": "python",
   "pygments_lexer": "ipython3",
   "version": "3.10.6"
  }
 },
 "nbformat": 4,
 "nbformat_minor": 5
}
